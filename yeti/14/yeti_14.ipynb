{
 "cells": [
  {
   "cell_type": "markdown",
   "metadata": {},
   "source": []
  },
  {
   "cell_type": "code",
   "execution_count": 29,
   "metadata": {},
   "outputs": [],
   "source": [
    "import numpy as np\n",
    "import pandas as pd\n",
    "from sklearn import linear_model as lm"
   ]
  },
  {
   "cell_type": "code",
   "execution_count": 34,
   "metadata": {},
   "outputs": [],
   "source": [
    "Y_14 = pd.read_excel(\"yeti_14_results.xlsx\")\n",
    "Y_14\n",
    "\n",
    "Quad = Y_14[['NW','NE','SW','SE']]\n",
    "Quad\n",
    "\n",
    "h_pos = Y_14[['x']]\n",
    "h_pos\n",
    "\n",
    "Pos = Y_14[['x', 'y']]"
   ]
  },
  {
   "cell_type": "code",
   "execution_count": 35,
   "metadata": {},
   "outputs": [
    {
     "data": {
      "text/plain": [
       "LinearRegression()"
      ]
     },
     "execution_count": 35,
     "metadata": {},
     "output_type": "execute_result"
    }
   ],
   "source": [
    "M_0 = lm.LinearRegression()\n",
    "M_0.fit(Quad, Pos)"
   ]
  },
  {
   "cell_type": "code",
   "execution_count": 36,
   "metadata": {},
   "outputs": [
    {
     "data": {
      "text/plain": [
       "array([[-18.94615796,  -8.54953481,  23.65837293,   6.29255552],\n",
       "       [ 16.90492864, -30.52421954,   9.12589527, -17.22283806]])"
      ]
     },
     "execution_count": 36,
     "metadata": {},
     "output_type": "execute_result"
    }
   ],
   "source": [
    "M_0.coef_"
   ]
  },
  {
   "cell_type": "code",
   "execution_count": 37,
   "metadata": {},
   "outputs": [
    {
     "data": {
      "text/plain": [
       "array([[ 152.63015624,   34.66827468],\n",
       "       [ 242.40400698,   90.52803034],\n",
       "       [ 335.38154785,   82.63644175],\n",
       "       [ 430.28600401,   93.44048285],\n",
       "       [ 478.02980945,  137.14276354],\n",
       "       [ 598.39665486,   82.1293438 ],\n",
       "       [ 702.65298573,  146.01596609],\n",
       "       [ 831.14807619,  112.27800041],\n",
       "       [ 896.82992477,  163.25449525],\n",
       "       [ 922.27388789,  224.89729176],\n",
       "       [  98.53584736,  265.58819885],\n",
       "       [ 203.68922554,  212.69133754],\n",
       "       [ 306.02204101,  240.30502607],\n",
       "       [ 392.33097247,  206.52419877],\n",
       "       [ 466.26145587,  206.68451121],\n",
       "       [ 541.09384167,  138.18130527],\n",
       "       [ 620.01039002,  107.99632025],\n",
       "       [ 768.43109162,  158.00147406],\n",
       "       [ 907.36384228,  176.60107595],\n",
       "       [ 961.34179182,  259.30310832],\n",
       "       [ 140.93212766,  283.9512776 ],\n",
       "       [ 164.01870954,  303.52582276],\n",
       "       [ 253.42866354,  298.03488117],\n",
       "       [ 351.35524297,  237.70450133],\n",
       "       [ 440.50863315,  212.73287064],\n",
       "       [ 559.19498325,  200.22890365],\n",
       "       [ 677.26824574,  263.61712115],\n",
       "       [ 759.27867273,  216.69277117],\n",
       "       [ 865.08024247,  159.98708938],\n",
       "       [ 943.83932797,  234.4945162 ],\n",
       "       [  13.45062115,  370.86004071],\n",
       "       [  78.23787741,  298.59312722],\n",
       "       [ 234.74256122,  352.98578565],\n",
       "       [ 373.75963411,  379.24153206],\n",
       "       [ 461.79069274,  369.10588515],\n",
       "       [ 511.54035697,  206.50625561],\n",
       "       [ 608.72035878,  284.25621442],\n",
       "       [ 732.83337277,  312.17863277],\n",
       "       [ 827.82085563,  222.24602622],\n",
       "       [ 913.60139029,  237.7117401 ],\n",
       "       [  57.39590703,  423.08281017],\n",
       "       [  74.57512991,  411.81152941],\n",
       "       [ 177.19187873,  384.29460974],\n",
       "       [ 379.65976634,  432.51203229],\n",
       "       [ 396.50317868,  423.23582964],\n",
       "       [ 491.5426301 ,  423.70910258],\n",
       "       [ 570.24177551,  399.39846232],\n",
       "       [ 709.34287273,  440.00024984],\n",
       "       [ 829.05459639,  472.80426865],\n",
       "       [ 903.62801251,  378.17673938],\n",
       "       [ -28.53084889,  512.17605842],\n",
       "       [ 112.18614799,  542.78461059],\n",
       "       [ 212.14109877,  571.29451271],\n",
       "       [ 323.10924596,  506.35138751],\n",
       "       [ 381.48344421,  480.48782541],\n",
       "       [ 547.67808498,  671.50825682],\n",
       "       [ 661.77585875,  582.03762005],\n",
       "       [ 718.08623054,  513.44405393],\n",
       "       [ 830.91850025,  549.06868944],\n",
       "       [ 319.98568545,  467.52634251],\n",
       "       [  80.66325208,  587.47198989],\n",
       "       [ 106.37948668,  610.9902211 ],\n",
       "       [ 141.20283221,  588.29260328],\n",
       "       [ 350.29810035,  584.26158798],\n",
       "       [ 487.25300738,  752.68128121],\n",
       "       [ 528.32216812,  630.21459253],\n",
       "       [ 626.30709463,  644.15115062],\n",
       "       [ 718.01097935,  713.50331626],\n",
       "       [ 900.09185147,  603.14688773],\n",
       "       [ 963.12057001,  655.80586702],\n",
       "       [ 310.49105233,  811.48659026],\n",
       "       [ 235.36082718,  718.36514865],\n",
       "       [ 285.5730035 ,  766.11872826],\n",
       "       [ 275.31918847,  833.58278535],\n",
       "       [ 462.60933399,  739.6412535 ],\n",
       "       [ 550.6227416 ,  837.61969505],\n",
       "       [ 621.03448373,  727.96871109],\n",
       "       [ 736.6473516 ,  754.76926845],\n",
       "       [ 815.11156967,  731.3969359 ],\n",
       "       [ 317.98430119,  836.83390499],\n",
       "       [ 289.90829385,  809.89668769],\n",
       "       [ 297.24738907,  915.00263638],\n",
       "       [ 374.89171513,  829.42221074],\n",
       "       [ 276.63645192,  887.7655628 ],\n",
       "       [ 495.55078685,  878.70387342],\n",
       "       [ 556.1905012 ,  877.67593912],\n",
       "       [ 644.6586326 ,  836.17892391],\n",
       "       [ 711.44126209,  894.75940786],\n",
       "       [ 795.73286566,  898.55463596],\n",
       "       [ 898.32398512,  971.93291506],\n",
       "       [ 355.44853526,  834.225945  ],\n",
       "       [ 333.79229641,  903.74749582],\n",
       "       [ 393.49024252,  835.34443603],\n",
       "       [ 415.8671433 ,  924.61006703],\n",
       "       [ 448.7008801 ,  970.1354931 ],\n",
       "       [ 585.19007114, 1013.76105045],\n",
       "       [ 644.3387336 ,  922.25309127],\n",
       "       [ 801.0051341 ,  945.22438518],\n",
       "       [ 863.10711865,  940.97220586],\n",
       "       [ 871.58944625,  612.302885  ]])"
      ]
     },
     "execution_count": 37,
     "metadata": {},
     "output_type": "execute_result"
    }
   ],
   "source": [
    "M_0.predict(Quad)"
   ]
  },
  {
   "cell_type": "markdown",
   "metadata": {},
   "source": [
    "## Quadrant-split brightness gradient\n",
    "\n",
    "QBG grounds on the same principle as SBG, split-frame brightness:\n",
    "\n",
    "1. Eye frames are split in four quadrants (North-West (NW), NE, SW, SE)\n",
    "1. Average brightness is computed per quad\n",
    "1. A linear regression model is trained, with \n",
    "    + brightness tuples as predictors\n",
    "    + target positions as outcome\n",
    "1. The trained model is used to generate predictions for future brightness quads"
   ]
  },
  {
   "cell_type": "code",
   "execution_count": 122,
   "metadata": {},
   "outputs": [],
   "source": [
    "def quad_bright(frame):\n",
    "    w, h = np.shape(frame)\n",
    "    b_NW =  np.mean(frame[0:int(h/2), 0:int(w/2)])\n",
    "    b_NE =  np.mean(frame[int(h/2):h, 0:int(w/2)])\n",
    "    b_SW =  np.mean(frame[0:int(h/2), int(w/2):w])\n",
    "    b_SE =  np.mean(frame[int(h/2):h, int(w/2):w])\n",
    "    out = np.array((b_NW, b_NE, b_SW, b_SE))\n",
    "    out.shape = (1,4)\n",
    "    return(out)\n",
    "\n",
    "def train_QBG(data):\n",
    "    Quad = data[['NW','NE','SW','SE']]\n",
    "    Pos = data[['x', 'y']]\n",
    "    model = lm.LinearRegression()\n",
    "    model.fit(Quad, Pos)\n",
    "    return model\n",
    "\n",
    "model_QBG = train_QBG(Y_14)\n"
   ]
  },
  {
   "cell_type": "code",
   "execution_count": 123,
   "metadata": {},
   "outputs": [
    {
     "data": {
      "text/html": [
       "<div>\n",
       "<style scoped>\n",
       "    .dataframe tbody tr th:only-of-type {\n",
       "        vertical-align: middle;\n",
       "    }\n",
       "\n",
       "    .dataframe tbody tr th {\n",
       "        vertical-align: top;\n",
       "    }\n",
       "\n",
       "    .dataframe thead th {\n",
       "        text-align: right;\n",
       "    }\n",
       "</style>\n",
       "<table border=\"1\" class=\"dataframe\">\n",
       "  <thead>\n",
       "    <tr style=\"text-align: right;\">\n",
       "      <th></th>\n",
       "      <th>Obs</th>\n",
       "      <th>run</th>\n",
       "      <th>NW</th>\n",
       "      <th>NE</th>\n",
       "      <th>SW</th>\n",
       "      <th>SE</th>\n",
       "      <th>x</th>\n",
       "      <th>y</th>\n",
       "    </tr>\n",
       "  </thead>\n",
       "  <tbody>\n",
       "    <tr>\n",
       "      <th>0</th>\n",
       "      <td>1</td>\n",
       "      <td>0</td>\n",
       "      <td>157.320656</td>\n",
       "      <td>161.686212</td>\n",
       "      <td>125.248283</td>\n",
       "      <td>115.376789</td>\n",
       "      <td>50</td>\n",
       "      <td>50</td>\n",
       "    </tr>\n",
       "    <tr>\n",
       "      <th>1</th>\n",
       "      <td>2</td>\n",
       "      <td>0</td>\n",
       "      <td>154.898653</td>\n",
       "      <td>159.019274</td>\n",
       "      <td>126.237839</td>\n",
       "      <td>115.007121</td>\n",
       "      <td>150</td>\n",
       "      <td>50</td>\n",
       "    </tr>\n",
       "    <tr>\n",
       "      <th>2</th>\n",
       "      <td>3</td>\n",
       "      <td>0</td>\n",
       "      <td>153.755651</td>\n",
       "      <td>157.737884</td>\n",
       "      <td>128.099555</td>\n",
       "      <td>117.600914</td>\n",
       "      <td>250</td>\n",
       "      <td>50</td>\n",
       "    </tr>\n",
       "    <tr>\n",
       "      <th>3</th>\n",
       "      <td>4</td>\n",
       "      <td>0</td>\n",
       "      <td>152.278595</td>\n",
       "      <td>155.927939</td>\n",
       "      <td>129.741887</td>\n",
       "      <td>119.601823</td>\n",
       "      <td>350</td>\n",
       "      <td>50</td>\n",
       "    </tr>\n",
       "    <tr>\n",
       "      <th>4</th>\n",
       "      <td>5</td>\n",
       "      <td>0</td>\n",
       "      <td>150.153163</td>\n",
       "      <td>153.216420</td>\n",
       "      <td>129.117553</td>\n",
       "      <td>119.453000</td>\n",
       "      <td>450</td>\n",
       "      <td>50</td>\n",
       "    </tr>\n",
       "    <tr>\n",
       "      <th>...</th>\n",
       "      <td>...</td>\n",
       "      <td>...</td>\n",
       "      <td>...</td>\n",
       "      <td>...</td>\n",
       "      <td>...</td>\n",
       "      <td>...</td>\n",
       "      <td>...</td>\n",
       "      <td>...</td>\n",
       "    </tr>\n",
       "    <tr>\n",
       "      <th>95</th>\n",
       "      <td>96</td>\n",
       "      <td>0</td>\n",
       "      <td>160.120245</td>\n",
       "      <td>143.245932</td>\n",
       "      <td>142.390891</td>\n",
       "      <td>103.041476</td>\n",
       "      <td>550</td>\n",
       "      <td>950</td>\n",
       "    </tr>\n",
       "    <tr>\n",
       "      <th>96</th>\n",
       "      <td>97</td>\n",
       "      <td>0</td>\n",
       "      <td>156.562833</td>\n",
       "      <td>141.329312</td>\n",
       "      <td>140.261674</td>\n",
       "      <td>107.131539</td>\n",
       "      <td>650</td>\n",
       "      <td>950</td>\n",
       "    </tr>\n",
       "    <tr>\n",
       "      <th>97</th>\n",
       "      <td>98</td>\n",
       "      <td>0</td>\n",
       "      <td>158.016401</td>\n",
       "      <td>141.879499</td>\n",
       "      <td>147.465890</td>\n",
       "      <td>110.066715</td>\n",
       "      <td>750</td>\n",
       "      <td>950</td>\n",
       "    </tr>\n",
       "    <tr>\n",
       "      <th>98</th>\n",
       "      <td>99</td>\n",
       "      <td>0</td>\n",
       "      <td>155.488755</td>\n",
       "      <td>138.625911</td>\n",
       "      <td>146.138458</td>\n",
       "      <td>112.895616</td>\n",
       "      <td>850</td>\n",
       "      <td>950</td>\n",
       "    </tr>\n",
       "    <tr>\n",
       "      <th>99</th>\n",
       "      <td>100</td>\n",
       "      <td>0</td>\n",
       "      <td>137.238400</td>\n",
       "      <td>133.380454</td>\n",
       "      <td>129.541378</td>\n",
       "      <td>114.567737</td>\n",
       "      <td>950</td>\n",
       "      <td>950</td>\n",
       "    </tr>\n",
       "  </tbody>\n",
       "</table>\n",
       "<p>100 rows × 8 columns</p>\n",
       "</div>"
      ],
      "text/plain": [
       "    Obs  run          NW          NE          SW          SE    x    y\n",
       "0     1    0  157.320656  161.686212  125.248283  115.376789   50   50\n",
       "1     2    0  154.898653  159.019274  126.237839  115.007121  150   50\n",
       "2     3    0  153.755651  157.737884  128.099555  117.600914  250   50\n",
       "3     4    0  152.278595  155.927939  129.741887  119.601823  350   50\n",
       "4     5    0  150.153163  153.216420  129.117553  119.453000  450   50\n",
       "..  ...  ...         ...         ...         ...         ...  ...  ...\n",
       "95   96    0  160.120245  143.245932  142.390891  103.041476  550  950\n",
       "96   97    0  156.562833  141.329312  140.261674  107.131539  650  950\n",
       "97   98    0  158.016401  141.879499  147.465890  110.066715  750  950\n",
       "98   99    0  155.488755  138.625911  146.138458  112.895616  850  950\n",
       "99  100    0  137.238400  133.380454  129.541378  114.567737  950  950\n",
       "\n",
       "[100 rows x 8 columns]"
      ]
     },
     "execution_count": 123,
     "metadata": {},
     "output_type": "execute_result"
    }
   ],
   "source": [
    "Y_14"
   ]
  },
  {
   "cell_type": "code",
   "execution_count": 124,
   "metadata": {},
   "outputs": [
    {
     "data": {
      "text/plain": [
       "((100, 4), (4,), (1, 4))"
      ]
     },
     "execution_count": 124,
     "metadata": {},
     "output_type": "execute_result"
    }
   ],
   "source": [
    "A_1 = Quad.to_numpy()\n",
    "A_2 = Quad.to_numpy()[0,:]\n",
    "A_3 = Quad.to_numpy()[0:1,:]\n",
    "\n",
    "(A_1.shape, A_2.shape, A_3.shape)\n"
   ]
  },
  {
   "cell_type": "markdown",
   "metadata": {},
   "source": [
    "Note how the second slicing creates an array of the wrong dimensions. Recall that the `:` operator *does not include the right boundary*. The third array also extracts just the first row, but preserves the four columns."
   ]
  },
  {
   "cell_type": "code",
   "execution_count": null,
   "metadata": {},
   "outputs": [],
   "source": []
  },
  {
   "cell_type": "code",
   "execution_count": 125,
   "metadata": {},
   "outputs": [
    {
     "ename": "ValueError",
     "evalue": "Expected 2D array, got 1D array instead:\narray=[157.32065566 161.68621226 125.24828302 115.37678948].\nReshape your data either using array.reshape(-1, 1) if your data has a single feature or array.reshape(1, -1) if it contains a single sample.",
     "output_type": "error",
     "traceback": [
      "\u001b[1;31m---------------------------------------------------------------------------\u001b[0m",
      "\u001b[1;31mValueError\u001b[0m                                Traceback (most recent call last)",
      "\u001b[1;32m<ipython-input-125-50abdb5113af>\u001b[0m in \u001b[0;36m<module>\u001b[1;34m\u001b[0m\n\u001b[1;32m----> 1\u001b[1;33m \u001b[0mmodel_QBG\u001b[0m\u001b[1;33m.\u001b[0m\u001b[0mpredict\u001b[0m\u001b[1;33m(\u001b[0m\u001b[0mA_2\u001b[0m\u001b[1;33m)\u001b[0m\u001b[1;33m\u001b[0m\u001b[1;33m\u001b[0m\u001b[0m\n\u001b[0m",
      "\u001b[1;32m~\\Anaconda3\\lib\\site-packages\\sklearn\\linear_model\\_base.py\u001b[0m in \u001b[0;36mpredict\u001b[1;34m(self, X)\u001b[0m\n\u001b[0;32m    236\u001b[0m             \u001b[0mReturns\u001b[0m \u001b[0mpredicted\u001b[0m \u001b[0mvalues\u001b[0m\u001b[1;33m.\u001b[0m\u001b[1;33m\u001b[0m\u001b[1;33m\u001b[0m\u001b[0m\n\u001b[0;32m    237\u001b[0m         \"\"\"\n\u001b[1;32m--> 238\u001b[1;33m         \u001b[1;32mreturn\u001b[0m \u001b[0mself\u001b[0m\u001b[1;33m.\u001b[0m\u001b[0m_decision_function\u001b[0m\u001b[1;33m(\u001b[0m\u001b[0mX\u001b[0m\u001b[1;33m)\u001b[0m\u001b[1;33m\u001b[0m\u001b[1;33m\u001b[0m\u001b[0m\n\u001b[0m\u001b[0;32m    239\u001b[0m \u001b[1;33m\u001b[0m\u001b[0m\n\u001b[0;32m    240\u001b[0m     \u001b[0m_preprocess_data\u001b[0m \u001b[1;33m=\u001b[0m \u001b[0mstaticmethod\u001b[0m\u001b[1;33m(\u001b[0m\u001b[0m_preprocess_data\u001b[0m\u001b[1;33m)\u001b[0m\u001b[1;33m\u001b[0m\u001b[1;33m\u001b[0m\u001b[0m\n",
      "\u001b[1;32m~\\Anaconda3\\lib\\site-packages\\sklearn\\linear_model\\_base.py\u001b[0m in \u001b[0;36m_decision_function\u001b[1;34m(self, X)\u001b[0m\n\u001b[0;32m    218\u001b[0m         \u001b[0mcheck_is_fitted\u001b[0m\u001b[1;33m(\u001b[0m\u001b[0mself\u001b[0m\u001b[1;33m)\u001b[0m\u001b[1;33m\u001b[0m\u001b[1;33m\u001b[0m\u001b[0m\n\u001b[0;32m    219\u001b[0m \u001b[1;33m\u001b[0m\u001b[0m\n\u001b[1;32m--> 220\u001b[1;33m         \u001b[0mX\u001b[0m \u001b[1;33m=\u001b[0m \u001b[0mcheck_array\u001b[0m\u001b[1;33m(\u001b[0m\u001b[0mX\u001b[0m\u001b[1;33m,\u001b[0m \u001b[0maccept_sparse\u001b[0m\u001b[1;33m=\u001b[0m\u001b[1;33m[\u001b[0m\u001b[1;34m'csr'\u001b[0m\u001b[1;33m,\u001b[0m \u001b[1;34m'csc'\u001b[0m\u001b[1;33m,\u001b[0m \u001b[1;34m'coo'\u001b[0m\u001b[1;33m]\u001b[0m\u001b[1;33m)\u001b[0m\u001b[1;33m\u001b[0m\u001b[1;33m\u001b[0m\u001b[0m\n\u001b[0m\u001b[0;32m    221\u001b[0m         return safe_sparse_dot(X, self.coef_.T,\n\u001b[0;32m    222\u001b[0m                                dense_output=True) + self.intercept_\n",
      "\u001b[1;32m~\\Anaconda3\\lib\\site-packages\\sklearn\\utils\\validation.py\u001b[0m in \u001b[0;36minner_f\u001b[1;34m(*args, **kwargs)\u001b[0m\n\u001b[0;32m     61\u001b[0m             \u001b[0mextra_args\u001b[0m \u001b[1;33m=\u001b[0m \u001b[0mlen\u001b[0m\u001b[1;33m(\u001b[0m\u001b[0margs\u001b[0m\u001b[1;33m)\u001b[0m \u001b[1;33m-\u001b[0m \u001b[0mlen\u001b[0m\u001b[1;33m(\u001b[0m\u001b[0mall_args\u001b[0m\u001b[1;33m)\u001b[0m\u001b[1;33m\u001b[0m\u001b[1;33m\u001b[0m\u001b[0m\n\u001b[0;32m     62\u001b[0m             \u001b[1;32mif\u001b[0m \u001b[0mextra_args\u001b[0m \u001b[1;33m<=\u001b[0m \u001b[1;36m0\u001b[0m\u001b[1;33m:\u001b[0m\u001b[1;33m\u001b[0m\u001b[1;33m\u001b[0m\u001b[0m\n\u001b[1;32m---> 63\u001b[1;33m                 \u001b[1;32mreturn\u001b[0m \u001b[0mf\u001b[0m\u001b[1;33m(\u001b[0m\u001b[1;33m*\u001b[0m\u001b[0margs\u001b[0m\u001b[1;33m,\u001b[0m \u001b[1;33m**\u001b[0m\u001b[0mkwargs\u001b[0m\u001b[1;33m)\u001b[0m\u001b[1;33m\u001b[0m\u001b[1;33m\u001b[0m\u001b[0m\n\u001b[0m\u001b[0;32m     64\u001b[0m \u001b[1;33m\u001b[0m\u001b[0m\n\u001b[0;32m     65\u001b[0m             \u001b[1;31m# extra_args > 0\u001b[0m\u001b[1;33m\u001b[0m\u001b[1;33m\u001b[0m\u001b[1;33m\u001b[0m\u001b[0m\n",
      "\u001b[1;32m~\\Anaconda3\\lib\\site-packages\\sklearn\\utils\\validation.py\u001b[0m in \u001b[0;36mcheck_array\u001b[1;34m(array, accept_sparse, accept_large_sparse, dtype, order, copy, force_all_finite, ensure_2d, allow_nd, ensure_min_samples, ensure_min_features, estimator)\u001b[0m\n\u001b[0;32m    635\u001b[0m             \u001b[1;31m# If input is 1D raise error\u001b[0m\u001b[1;33m\u001b[0m\u001b[1;33m\u001b[0m\u001b[1;33m\u001b[0m\u001b[0m\n\u001b[0;32m    636\u001b[0m             \u001b[1;32mif\u001b[0m \u001b[0marray\u001b[0m\u001b[1;33m.\u001b[0m\u001b[0mndim\u001b[0m \u001b[1;33m==\u001b[0m \u001b[1;36m1\u001b[0m\u001b[1;33m:\u001b[0m\u001b[1;33m\u001b[0m\u001b[1;33m\u001b[0m\u001b[0m\n\u001b[1;32m--> 637\u001b[1;33m                 raise ValueError(\n\u001b[0m\u001b[0;32m    638\u001b[0m                     \u001b[1;34m\"Expected 2D array, got 1D array instead:\\narray={}.\\n\"\u001b[0m\u001b[1;33m\u001b[0m\u001b[1;33m\u001b[0m\u001b[0m\n\u001b[0;32m    639\u001b[0m                     \u001b[1;34m\"Reshape your data either using array.reshape(-1, 1) if \"\u001b[0m\u001b[1;33m\u001b[0m\u001b[1;33m\u001b[0m\u001b[0m\n",
      "\u001b[1;31mValueError\u001b[0m: Expected 2D array, got 1D array instead:\narray=[157.32065566 161.68621226 125.24828302 115.37678948].\nReshape your data either using array.reshape(-1, 1) if your data has a single feature or array.reshape(1, -1) if it contains a single sample."
     ]
    }
   ],
   "source": [
    "# model_QBG.predict(A_2) ## Produces a value error\n",
    "model_QBG.predict(A_3)"
   ]
  },
  {
   "cell_type": "code",
   "execution_count": 121,
   "metadata": {},
   "outputs": [
    {
     "data": {
      "text/plain": [
       "array([[2062.58798223, -690.92003609]])"
      ]
     },
     "execution_count": 121,
     "metadata": {},
     "output_type": "execute_result"
    }
   ],
   "source": [
    "new_data = np.array((120, 150, 160, 160))\n",
    "new_data.shape = [1,4]\n",
    "model_QBG.predict(new_data)"
   ]
  },
  {
   "cell_type": "code",
   "execution_count": 136,
   "metadata": {},
   "outputs": [
    {
     "data": {
      "text/plain": [
       "(1, 6)"
      ]
     },
     "execution_count": 136,
     "metadata": {},
     "output_type": "execute_result"
    }
   ],
   "source": [
    "obs, run = (1,5)\n",
    "id = np.array([[obs, run]])\n",
    "(id.shape, new_data.shape)\n",
    "np.hstack((id, new_data)).shape\n",
    "\n",
    "#this_obs = np.array((1, 5)).hstack(new_data)\n",
    "#this_obs"
   ]
  },
  {
   "cell_type": "code",
   "execution_count": 43,
   "metadata": {},
   "outputs": [
    {
     "data": {
      "text/plain": [
       "array([[0., 0., 0.],\n",
       "       [0., 0., 0.]])"
      ]
     },
     "execution_count": 43,
     "metadata": {},
     "output_type": "execute_result"
    }
   ],
   "source": [
    "np.zeros((2,3))"
   ]
  },
  {
   "cell_type": "code",
   "execution_count": 42,
   "metadata": {},
   "outputs": [
    {
     "data": {
      "text/plain": [
       "(2, 3)"
      ]
     },
     "execution_count": 42,
     "metadata": {},
     "output_type": "execute_result"
    }
   ],
   "source": [
    "np.shape(np.zeros((2,3)))"
   ]
  }
 ],
 "metadata": {
  "interpreter": {
   "hash": "764cdc7f8e7c8523b2fc19a1a979def988aabc9182f95811717cb6253e2bd7e2"
  },
  "kernelspec": {
   "display_name": "Python 3.8.8 64-bit ('base': conda)",
   "language": "python",
   "name": "python3"
  },
  "language_info": {
   "codemirror_mode": {
    "name": "ipython",
    "version": 3
   },
   "file_extension": ".py",
   "mimetype": "text/x-python",
   "name": "python",
   "nbconvert_exporter": "python",
   "pygments_lexer": "ipython3",
   "version": "3.8.8"
  },
  "orig_nbformat": 4
 },
 "nbformat": 4,
 "nbformat_minor": 2
}
